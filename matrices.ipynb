{
 "metadata": {
  "language_info": {
   "codemirror_mode": {
    "name": "ipython",
    "version": 3
   },
   "file_extension": ".py",
   "mimetype": "text/x-python",
   "name": "python",
   "nbconvert_exporter": "python",
   "pygments_lexer": "ipython3",
   "version": "3.8.3"
  },
  "orig_nbformat": 2,
  "kernelspec": {
   "name": "python383jvsc74a57bd0b3ba2566441a7c06988d0923437866b63cedc61552a5af99d1f4fb67d367b25f",
   "display_name": "Python 3.8.3 64-bit (conda)"
  }
 },
 "nbformat": 4,
 "nbformat_minor": 2,
 "cells": [
  {
   "cell_type": "code",
   "execution_count": 12,
   "metadata": {},
   "outputs": [],
   "source": [
    "from scipy.integrate import quad, dblquad\n",
    "import numpy as np\n",
    "import math"
   ]
  },
  {
   "cell_type": "code",
   "execution_count": 13,
   "metadata": {},
   "outputs": [],
   "source": [
    "def psi1(x):\n",
    "    return 1 - x\n",
    "def psi2(x):\n",
    "    return x"
   ]
  },
  {
   "cell_type": "code",
   "execution_count": 14,
   "metadata": {},
   "outputs": [],
   "source": [
    "flin = [psi1, psi2]"
   ]
  },
  {
   "cell_type": "code",
   "execution_count": 15,
   "metadata": {},
   "outputs": [],
   "source": [
    "def phi1(x):\n",
    "    return 2 * (x - 0.5) * (x - 1)\n",
    "def phi2(x):\n",
    "    return -4 * x * (x - 1)\n",
    "def phi3(x):\n",
    "    return 2 * x * (x - 0.5)\n",
    "\n",
    "def dphi1dx(x):\n",
    "    return 4 * x - 3\n",
    "def dphi2dx(x):\n",
    "    return -8 * x + 4\n",
    "def dphi3dx(x):\n",
    "    return 4 * x - 1"
   ]
  },
  {
   "cell_type": "code",
   "execution_count": 16,
   "metadata": {},
   "outputs": [],
   "source": [
    "fquad = [phi1, phi2, phi3]\n",
    "dfquaddx = [dphi1dx, dphi2dx, dphi3dx]"
   ]
  },
  {
   "cell_type": "code",
   "execution_count": 17,
   "metadata": {},
   "outputs": [],
   "source": [
    "Gl = np.zeros((4, 9, 9))\n",
    "Gr = np.zeros((4, 9, 9))\n",
    "\n",
    "for s in range(4):\n",
    "    for i in range(9):\n",
    "        for j in range(9):\n",
    "            f = lambda x, y: flin[s % 2](x) * flin[s // 2](y) * fquad[i // 3](x) * dfquaddx[i % 3](y) * fquad[j // 3](x) * dfquaddx[j % 3](y)\n",
    "            Gl[s][i][j] = dblquad(f, 0, 1, 0, 1)[0]\n",
    "\n",
    "            f = lambda x, y: flin[s % 2](x) * flin[s // 2](y) * dfquaddx[i // 3](x) * fquad[i % 3](y) * dfquaddx[j // 3](x) * fquad[j % 3](y)\n",
    "            Gr[s][i][j] = dblquad(f, 0, 1, 0, 1)[0]"
   ]
  },
  {
   "cell_type": "code",
   "execution_count": 18,
   "metadata": {},
   "outputs": [],
   "source": [
    "def out(file_name, mat):\n",
    "    with open(file_name, \"w\") as f:\n",
    "    \tfor i in range(9):\n",
    "    \t    f.write(str(mat[i][i]))\n",
    "    \t    f.write(\" \")\n",
    "    \tf.write(\"\\n\")\n",
    "    \tfor i in range(9):\n",
    "            for j in range(i):\n",
    "                f.write(str(mat[i][j]))\n",
    "                f.write(\" \")"
   ]
  },
  {
   "source": [
    "out(\"data/Gl0.txt\", Gl[0] * 90)\n",
    "out(\"data/Gl1.txt\", Gl[1] * 90)\n",
    "out(\"data/Gl2.txt\", Gl[2] * 90)\n",
    "out(\"data/Gl3.txt\", Gl[3] * 90)\n",
    "\n",
    "out(\"data/Gr0.txt\", Gr[0] * 90)\n",
    "out(\"data/Gr1.txt\", Gr[1] * 90)\n",
    "out(\"data/Gr2.txt\", Gr[2] * 90)\n",
    "out(\"data/Gr3.txt\", Gr[3] * 90)"
   ],
   "cell_type": "code",
   "metadata": {},
   "execution_count": 19,
   "outputs": []
  },
  {
   "cell_type": "code",
   "execution_count": 20,
   "metadata": {},
   "outputs": [
    {
     "output_type": "stream",
     "name": "stdout",
     "text": [
      "[[  28.   14.   -7.  -32.  -16.    8.    4.    2.   -1.]\n [  14.  112.   14.  -16. -128.  -16.    2.   16.    2.]\n [  -7.   14.   28.    8.  -16.  -32.   -1.    2.    4.]\n [ -32.  -16.    8.   64.   32.  -16.  -32.  -16.    8.]\n [ -16. -128.  -16.   32.  256.   32.  -16. -128.  -16.]\n [   8.  -16.  -32.  -16.   32.   64.    8.  -16.  -32.]\n [   4.    2.   -1.  -32.  -16.    8.   28.   14.   -7.]\n [   2.   16.    2.  -16. -128.  -16.   14.  112.   14.]\n [  -1.    2.    4.    8.  -16.  -32.   -7.   14.   28.]]\n"
     ]
    }
   ],
   "source": [
    "print((Gr[0] + Gr[1] + Gr[2] + Gr[3]) * 90)"
   ]
  },
  {
   "cell_type": "code",
   "execution_count": 21,
   "metadata": {},
   "outputs": [
    {
     "output_type": "stream",
     "name": "stdout",
     "text": [
      "[[  28.  -32.    4.   14.  -16.    2.   -7.    8.   -1.]\n [ -32.   64.  -32.  -16.   32.  -16.    8.  -16.    8.]\n [   4.  -32.   28.    2.  -16.   14.   -1.    8.   -7.]\n [  14.  -16.    2.  112. -128.   16.   14.  -16.    2.]\n [ -16.   32.  -16. -128.  256. -128.  -16.   32.  -16.]\n [   2.  -16.   14.   16. -128.  112.    2.  -16.   14.]\n [  -7.    8.   -1.   14.  -16.    2.   28.  -32.    4.]\n [   8.  -16.    8.  -16.   32.  -16.  -32.   64.  -32.]\n [  -1.    8.   -7.    2.  -16.   14.    4.  -32.   28.]]\n"
     ]
    }
   ],
   "source": [
    "print((Gl[0] + Gl[1] + Gl[2] + Gl[3]) * 90)"
   ]
  },
  {
   "cell_type": "code",
   "execution_count": 22,
   "metadata": {},
   "outputs": [
    {
     "output_type": "stream",
     "name": "stdout",
     "text": [
      "[[ 5.60000000e+01 -1.80000000e+01 -3.00000000e+00 -1.80000000e+01\n  -3.20000000e+01  1.00000000e+01 -3.00000000e+00  1.00000000e+01\n  -2.00000000e+00]\n [-1.80000000e+01  1.76000000e+02 -1.80000000e+01 -3.20000000e+01\n  -9.60000000e+01 -3.20000000e+01  1.00000000e+01  6.24500451e-16\n   1.00000000e+01]\n [-3.00000000e+00 -1.80000000e+01  5.60000000e+01  1.00000000e+01\n  -3.20000000e+01 -1.80000000e+01 -2.00000000e+00  1.00000000e+01\n  -3.00000000e+00]\n [-1.80000000e+01 -3.20000000e+01  1.00000000e+01  1.76000000e+02\n  -9.60000000e+01  1.24900090e-15 -1.80000000e+01 -3.20000000e+01\n   1.00000000e+01]\n [-3.20000000e+01 -9.60000000e+01 -3.20000000e+01 -9.60000000e+01\n   5.12000000e+02 -9.60000000e+01 -3.20000000e+01 -9.60000000e+01\n  -3.20000000e+01]\n [ 1.00000000e+01 -3.20000000e+01 -1.80000000e+01  1.24900090e-15\n  -9.60000000e+01  1.76000000e+02  1.00000000e+01 -3.20000000e+01\n  -1.80000000e+01]\n [-3.00000000e+00  1.00000000e+01 -2.00000000e+00 -1.80000000e+01\n  -3.20000000e+01  1.00000000e+01  5.60000000e+01 -1.80000000e+01\n  -3.00000000e+00]\n [ 1.00000000e+01  0.00000000e+00  1.00000000e+01 -3.20000000e+01\n  -9.60000000e+01 -3.20000000e+01 -1.80000000e+01  1.76000000e+02\n  -1.80000000e+01]\n [-2.00000000e+00  1.00000000e+01 -3.00000000e+00  1.00000000e+01\n  -3.20000000e+01 -1.80000000e+01 -3.00000000e+00 -1.80000000e+01\n   5.60000000e+01]]\n"
     ]
    }
   ],
   "source": [
    "print((Gl[0] + Gl[1] + Gl[2] + Gl[3] + Gr[0] + Gr[1] + Gr[2] + Gr[3]) * 90)"
   ]
  },
  {
   "cell_type": "code",
   "execution_count": null,
   "metadata": {},
   "outputs": [],
   "source": []
  }
 ]
}